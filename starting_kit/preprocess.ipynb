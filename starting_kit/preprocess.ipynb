{
 "cells": [
  {
   "cell_type": "code",
   "execution_count": null,
   "metadata": {},
   "outputs": [],
   "source": [
    "from sys import path\n",
    "import warnings\n",
    "warnings.simplefilter(action='ignore', category=FutureWarning)\n",
    "import sklearn as sk\n",
    "from sklearn.neighbors import LocalOutlierFactor\n",
    "import numpy as np\n",
    "from sklearn.decomposition import PCA\n",
    "from sklearn.feature_selection import SelectFromModel\n",
    "from sklearn.ensemble import ExtraTreesClassifier"
   ]
  },
  {
   "cell_type": "code",
   "execution_count": null,
   "metadata": {},
   "outputs": [],
   "source": [
    "problem_dir = 'ingestion_program/'  \n",
    "path.append(problem_dir);\n",
    "# Uncomment the next lines to auto-reload libraries (this causes some problem with pickles in Python 3)\n",
    "%load_ext autoreload\n",
    "%autoreload 2"
   ]
  },
  {
   "cell_type": "code",
   "execution_count": null,
   "metadata": {},
   "outputs": [],
   "source": [
    " from data_io import read_as_df\n",
    "data_dir = 'all_data' \n",
    "data_name = 'xporters'"
   ]
  },
  {
   "cell_type": "code",
   "execution_count": null,
   "metadata": {},
   "outputs": [],
   "source": [
    "dataFrame = read_as_df(data_dir  + '/' + data_name)  \n",
    "dataFrame.head()"
   ]
  },
  {
   "cell_type": "code",
   "execution_count": null,
   "metadata": {},
   "outputs": [],
   "source": [
    "data = dataFrame.to_numpy()"
   ]
  },
  {
   "cell_type": "code",
   "execution_count": null,
   "metadata": {
    "scrolled": true
   },
   "outputs": [],
   "source": [
    "def outlierDetection(data):\n",
    "    clf = LocalOutlierFactor(n_neighbors=20, contamination=0.1)\n",
    "    outlier = clf.fit_predict(data)\n",
    "    countInlier = 0\n",
    "    for i in outlier:\n",
    "        if i == 1:\n",
    "            countInlier = countInlier + 1\n",
    "    realData = np.ndarray(shape=(countInlier,60))\n",
    "    count = 0\n",
    "    for i in range(len(outlier)):\n",
    "        if outlier[i] == 1:\n",
    "            realData[count] = data[i]\n",
    "            count = count + 1\n",
    "    return realData"
   ]
  },
  {
   "cell_type": "code",
   "execution_count": null,
   "metadata": {},
   "outputs": [],
   "source": [
    "def dimensionReduction(nbDimension, data):\n",
    "    pca = PCA(n_components=nbDimension)\n",
    "    realData = np.ndarray(shape=(data.shape[0],nbDimension))\n",
    "    realData = pca.fit_transform(data)\n",
    "    return realData"
   ]
  },
  {
   "cell_type": "code",
   "execution_count": null,
   "metadata": {},
   "outputs": [],
   "source": [
    "X = outlierDetection(data)"
   ]
  },
  {
   "cell_type": "code",
   "execution_count": null,
   "metadata": {},
   "outputs": [],
   "source": [
    "#X = dimensionReduction(40, X)"
   ]
  },
  {
   "cell_type": "code",
   "execution_count": null,
   "metadata": {},
   "outputs": [],
   "source": [
    "def getTarget(data):\n",
    "    Y = np.zeros(data.shape[0])\n",
    "    for i in range(data.shape[0]):\n",
    "        Y[i] = data[i,59]\n",
    "    return Y"
   ]
  },
  {
   "cell_type": "code",
   "execution_count": null,
   "metadata": {},
   "outputs": [],
   "source": [
    "def featuresSelection(data, dataTarget, optionalEstimator, max_depth_tree, min_sample_leaf_tree):\n",
    "    clf = ExtraTreesClassifier(n_estimators=optionalEstimator, max_depth=max_depth_tree, min_samples_leaf=min_sample_leaf_tree) \n",
    "    clf = clf.fit(data, dataTarget)\n",
    "    model = SelectFromModel(clf, threshold=\"mean\", prefit=True)\n",
    "    realData = model.transform(data)\n",
    "    return realData"
   ]
  },
  {
   "cell_type": "code",
   "execution_count": null,
   "metadata": {},
   "outputs": [],
   "source": [
    "target = getTarget(X)\n",
    "print(target)"
   ]
  },
  {
   "cell_type": "code",
   "execution_count": null,
   "metadata": {},
   "outputs": [],
   "source": [
    "X = featuresSelection(X_temp, target, 10, 100, 50)\n",
    "print(X.shape)"
   ]
  },
  {
   "cell_type": "code",
   "execution_count": null,
   "metadata": {},
   "outputs": [],
   "source": []
  }
 ],
 "metadata": {
  "kernelspec": {
   "display_name": "Python 3",
   "language": "python",
   "name": "python3"
  },
  "language_info": {
   "codemirror_mode": {
    "name": "ipython",
    "version": 3
   },
   "file_extension": ".py",
   "mimetype": "text/x-python",
   "name": "python",
   "nbconvert_exporter": "python",
   "pygments_lexer": "ipython3",
   "version": "3.7.4"
  }
 },
 "nbformat": 4,
 "nbformat_minor": 2
}
